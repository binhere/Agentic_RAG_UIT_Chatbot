{
 "cells": [
  {
   "cell_type": "markdown",
   "metadata": {},
   "source": [
    "https://www.evidentlyai.com/ranking-metrics/evaluating-recommender-systems"
   ]
  },
  {
   "cell_type": "markdown",
   "metadata": {},
   "source": [
    "# set up"
   ]
  },
  {
   "cell_type": "code",
   "execution_count": 1,
   "metadata": {},
   "outputs": [],
   "source": [
    "from qdrant_client import QdrantClient\n",
    "\n",
    "client = QdrantClient(host=\"localhost\", port=6333)          # or: client = QdrantClient(url=\"http://localhost:6333\")"
   ]
  },
  {
   "cell_type": "code",
   "execution_count": 2,
   "metadata": {},
   "outputs": [
    {
     "name": "stdout",
     "output_type": "stream",
     "text": [
      "Successfully connected to Qdrant.\n",
      "Available collections:\n",
      "collections=[CollectionDescription(name='corpus_halong-trained')]\n"
     ]
    }
   ],
   "source": [
    "try:\n",
    "    response = client.get_collections()\n",
    "    print(\"Successfully connected to Qdrant.\")\n",
    "    print(\"Available collections:\", response, sep=\"\\n\")\n",
    "except Exception as e:\n",
    "    print(\"Failed to connect to Qdrant:\", e)"
   ]
  },
  {
   "cell_type": "code",
   "execution_count": 3,
   "metadata": {},
   "outputs": [
    {
     "name": "stdout",
     "output_type": "stream",
     "text": [
      "WARNING:tensorflow:From c:\\Users\\Dell\\AppData\\Local\\Programs\\Python\\Python312\\Lib\\site-packages\\tf_keras\\src\\losses.py:2976: The name tf.losses.sparse_softmax_cross_entropy is deprecated. Please use tf.compat.v1.losses.sparse_softmax_cross_entropy instead.\n",
      "\n"
     ]
    }
   ],
   "source": [
    "import os\n",
    "import pandas as pd\n",
    "import numpy as np\n",
    "from llama_index.core import VectorStoreIndex\n",
    "from llama_index.core import StorageContext\n",
    "from llama_index.vector_stores.qdrant import QdrantVectorStore\n",
    "from llama_index.embeddings.huggingface import HuggingFaceEmbedding\n",
    "from llama_index.core.schema import TextNode"
   ]
  },
  {
   "cell_type": "markdown",
   "metadata": {},
   "source": [
    "# evaluation function"
   ]
  },
  {
   "cell_type": "code",
   "execution_count": 4,
   "metadata": {},
   "outputs": [],
   "source": [
    "def compute_MRR(retriever, test_set):\n",
    "    mrr = 0\n",
    "    for _, row in test_set.iterrows():\n",
    "        retrieved_nodes = retriever.retrieve(row['question'])\n",
    "        for j, node in enumerate(retrieved_nodes):\n",
    "            if node.text == row['context']:\n",
    "                mrr += 1/(j+1)\n",
    "                break\n",
    "    return mrr/len(test_set)"
   ]
  },
  {
   "cell_type": "code",
   "execution_count": 5,
   "metadata": {},
   "outputs": [],
   "source": [
    "def compute_hit_rate(retriever, test_set):\n",
    "    hit_rate = 0\n",
    "    for _, row in test_set.iterrows():\n",
    "        retrieved_nodes = retriever.retrieve(row['question'])\n",
    "        for j, node in enumerate(retrieved_nodes):\n",
    "            if node.text == row['context']:\n",
    "                hit_rate += 1\n",
    "                break\n",
    "    return hit_rate/len(test_set)"
   ]
  },
  {
   "cell_type": "code",
   "execution_count": 6,
   "metadata": {},
   "outputs": [],
   "source": [
    "def compute_ndcg(retriever, test_set):\n",
    "    ndcg_values = []\n",
    "    \n",
    "    for _, row in test_set.iterrows():\n",
    "        retrieved_nodes = retriever.retrieve(row['question'])\n",
    "        relevance_scores = [1 if node.text == row['context'] else 0 for node in retrieved_nodes]\n",
    "\n",
    "        if max(relevance_scores) == 0:  # No relevant document retrieved\n",
    "            ndcg_values.append(0)\n",
    "            continue\n",
    "\n",
    "        # Compute DCG\n",
    "        dcg = sum(rel / np.log2(i + 2) for i, rel in enumerate(relevance_scores))\n",
    "\n",
    "        # Compute IDCG (Ideal DCG) using sorted relevance scores\n",
    "        ideal_relevance_scores = sorted(relevance_scores, reverse=True)\n",
    "        idcg = sum(rel / np.log2(i + 2) for i, rel in enumerate(ideal_relevance_scores))\n",
    "\n",
    "        # Compute NDCG\n",
    "        ndcg = dcg / idcg if idcg > 0 else 0\n",
    "        ndcg_values.append(ndcg)\n",
    "\n",
    "    return sum(ndcg_values)/len(test_set)\n"
   ]
  },
  {
   "cell_type": "markdown",
   "metadata": {},
   "source": [
    "# No word segmentation"
   ]
  },
  {
   "cell_type": "code",
   "execution_count": 4,
   "metadata": {},
   "outputs": [
    {
     "data": {
      "text/html": [
       "<div>\n",
       "<style scoped>\n",
       "    .dataframe tbody tr th:only-of-type {\n",
       "        vertical-align: middle;\n",
       "    }\n",
       "\n",
       "    .dataframe tbody tr th {\n",
       "        vertical-align: top;\n",
       "    }\n",
       "\n",
       "    .dataframe thead th {\n",
       "        text-align: right;\n",
       "    }\n",
       "</style>\n",
       "<table border=\"1\" class=\"dataframe\">\n",
       "  <thead>\n",
       "    <tr style=\"text-align: right;\">\n",
       "      <th></th>\n",
       "      <th>context</th>\n",
       "      <th>article</th>\n",
       "      <th>document</th>\n",
       "    </tr>\n",
       "  </thead>\n",
       "  <tbody>\n",
       "    <tr>\n",
       "      <th>0</th>\n",
       "      <td>Điều 9. Tuyển bổ sung và loại ra khỏi chương t...</td>\n",
       "      <td>Điều 9. Tuyển bổ sung và loại ra khỏi chương t...</td>\n",
       "      <td>QUY ĐỊNH ĐÀO TẠO CHƯƠNG TRÌNH TÀI NĂNG</td>\n",
       "    </tr>\n",
       "    <tr>\n",
       "      <th>1</th>\n",
       "      <td>Điều 4. Kiểm tra xếp lớp đầu khóa cho sinh viê...</td>\n",
       "      <td>Điều 4. Kiểm tra xếp lớp đầu khóa cho sinh viê...</td>\n",
       "      <td>QUY ĐỊNH ĐÀO TẠO NGOẠI NGỮ ĐỐI VỚI HỆ ĐẠI HỌC ...</td>\n",
       "    </tr>\n",
       "    <tr>\n",
       "      <th>2</th>\n",
       "      <td>Điều 5. Chương trình đào tạo CT CLC được xây d...</td>\n",
       "      <td>Điều 5. Chương trình đào tạo</td>\n",
       "      <td>QUY ĐỊNH ĐÀO TẠO CHƯƠNG TRÌNH CHẤT LƯỢNG CAO</td>\n",
       "    </tr>\n",
       "  </tbody>\n",
       "</table>\n",
       "</div>"
      ],
      "text/plain": [
       "                                             context  \\\n",
       "0  Điều 9. Tuyển bổ sung và loại ra khỏi chương t...   \n",
       "1  Điều 4. Kiểm tra xếp lớp đầu khóa cho sinh viê...   \n",
       "2  Điều 5. Chương trình đào tạo CT CLC được xây d...   \n",
       "\n",
       "                                             article  \\\n",
       "0  Điều 9. Tuyển bổ sung và loại ra khỏi chương t...   \n",
       "1  Điều 4. Kiểm tra xếp lớp đầu khóa cho sinh viê...   \n",
       "2                       Điều 5. Chương trình đào tạo   \n",
       "\n",
       "                                            document  \n",
       "0             QUY ĐỊNH ĐÀO TẠO CHƯƠNG TRÌNH TÀI NĂNG  \n",
       "1  QUY ĐỊNH ĐÀO TẠO NGOẠI NGỮ ĐỐI VỚI HỆ ĐẠI HỌC ...  \n",
       "2       QUY ĐỊNH ĐÀO TẠO CHƯƠNG TRÌNH CHẤT LƯỢNG CAO  "
      ]
     },
     "execution_count": 4,
     "metadata": {},
     "output_type": "execute_result"
    }
   ],
   "source": [
    "corpus = pd.read_csv('data-processed/corpus.csv')\n",
    "corpus.head(3)"
   ]
  },
  {
   "cell_type": "code",
   "execution_count": 5,
   "metadata": {},
   "outputs": [],
   "source": [
    "nodes = [\n",
    "    TextNode(\n",
    "        text=row['context'],\n",
    "        metadata={\n",
    "            \"article\": row['article'],\n",
    "            \"document\": row['document'],\n",
    "        } \n",
    "    )\n",
    "    for _, row in corpus.iterrows()\n",
    "]"
   ]
  },
  {
   "cell_type": "code",
   "execution_count": 6,
   "metadata": {},
   "outputs": [
    {
     "data": {
      "text/html": [
       "<div>\n",
       "<style scoped>\n",
       "    .dataframe tbody tr th:only-of-type {\n",
       "        vertical-align: middle;\n",
       "    }\n",
       "\n",
       "    .dataframe tbody tr th {\n",
       "        vertical-align: top;\n",
       "    }\n",
       "\n",
       "    .dataframe thead th {\n",
       "        text-align: right;\n",
       "    }\n",
       "</style>\n",
       "<table border=\"1\" class=\"dataframe\">\n",
       "  <thead>\n",
       "    <tr style=\"text-align: right;\">\n",
       "      <th></th>\n",
       "      <th>context</th>\n",
       "      <th>article</th>\n",
       "      <th>document</th>\n",
       "      <th>question</th>\n",
       "    </tr>\n",
       "  </thead>\n",
       "  <tbody>\n",
       "    <tr>\n",
       "      <th>0</th>\n",
       "      <td>Điều 8. Xây dựng, thẩm định học liệu điện tử 1...</td>\n",
       "      <td>Điều 8. Xây dựng, thẩm định học liệu điện tử</td>\n",
       "      <td>QUY ĐỊNH DẠY VÀ HỌC THEO PHƯƠNG THỨC TRỰC TUYẾ...</td>\n",
       "      <td>Học liệu điện tử sau khi được thông qua bởi ĐV...</td>\n",
       "    </tr>\n",
       "    <tr>\n",
       "      <th>1</th>\n",
       "      <td>Điều 20. Hồ sơ, trình tự, thủ tục chỉnh sửa nộ...</td>\n",
       "      <td>Điều 20. Hồ sơ, trình tự, thủ tục chỉnh sửa nộ...</td>\n",
       "      <td>QUY CHẾ Văn bằng, chứng chỉ của Trường Đại học...</td>\n",
       "      <td>Có thể nộp bản sao giấy khai sinh cho hồ sơ đề...</td>\n",
       "    </tr>\n",
       "    <tr>\n",
       "      <th>2</th>\n",
       "      <td>Điều 23. Điểm Miễn 1. Điểm BL - Sinh viên đã t...</td>\n",
       "      <td>Điều 23. Điểm Miễn</td>\n",
       "      <td>QUY CHẾ ĐÀO TẠO THEO HỌC CHẾ TÍN CHỈ CHO HỆ ĐẠ...</td>\n",
       "      <td>Quy định về điểm M trong trường hợp sinh viên ...</td>\n",
       "    </tr>\n",
       "  </tbody>\n",
       "</table>\n",
       "</div>"
      ],
      "text/plain": [
       "                                             context  \\\n",
       "0  Điều 8. Xây dựng, thẩm định học liệu điện tử 1...   \n",
       "1  Điều 20. Hồ sơ, trình tự, thủ tục chỉnh sửa nộ...   \n",
       "2  Điều 23. Điểm Miễn 1. Điểm BL - Sinh viên đã t...   \n",
       "\n",
       "                                             article  \\\n",
       "0       Điều 8. Xây dựng, thẩm định học liệu điện tử   \n",
       "1  Điều 20. Hồ sơ, trình tự, thủ tục chỉnh sửa nộ...   \n",
       "2                                 Điều 23. Điểm Miễn   \n",
       "\n",
       "                                            document  \\\n",
       "0  QUY ĐỊNH DẠY VÀ HỌC THEO PHƯƠNG THỨC TRỰC TUYẾ...   \n",
       "1  QUY CHẾ Văn bằng, chứng chỉ của Trường Đại học...   \n",
       "2  QUY CHẾ ĐÀO TẠO THEO HỌC CHẾ TÍN CHỈ CHO HỆ ĐẠ...   \n",
       "\n",
       "                                            question  \n",
       "0  Học liệu điện tử sau khi được thông qua bởi ĐV...  \n",
       "1  Có thể nộp bản sao giấy khai sinh cho hồ sơ đề...  \n",
       "2  Quy định về điểm M trong trường hợp sinh viên ...  "
      ]
     },
     "execution_count": 6,
     "metadata": {},
     "output_type": "execute_result"
    }
   ],
   "source": [
    "corpus_question_test_map = pd.read_csv(\"data-processed/corpus-question-test-map.csv\")\n",
    "corpus_question_test_map.head(3)"
   ]
  },
  {
   "cell_type": "markdown",
   "metadata": {},
   "source": [
    "## halong trained"
   ]
  },
  {
   "cell_type": "code",
   "execution_count": 7,
   "metadata": {},
   "outputs": [],
   "source": [
    "embed_model_halong_trained = HuggingFaceEmbedding(model_name=\"KhoaUIT/Halong-UIT-R2GQA\", max_length=512)"
   ]
  },
  {
   "cell_type": "code",
   "execution_count": 8,
   "metadata": {},
   "outputs": [],
   "source": [
    "# QdrantVectorStore: docs.llamaindex.ai/en/stable/api_reference/storage/vector_store/qdrant/\n",
    "qdrant_vector_store = QdrantVectorStore(client=client,\n",
    "                                        collection_name=\"corpus_halong-trained\",\n",
    "                                        enable_hybrid=True)\n",
    "\n",
    "storage_context = StorageContext.from_defaults(vector_store=qdrant_vector_store)"
   ]
  },
  {
   "cell_type": "code",
   "execution_count": 10,
   "metadata": {},
   "outputs": [
    {
     "name": "stderr",
     "output_type": "stream",
     "text": [
      "Collection corpus_halong-trained already exists, skipping collection creation.\n"
     ]
    }
   ],
   "source": [
    "# create index for the first time\n",
    "\n",
    "index_halong_trained = VectorStoreIndex(\n",
    "    nodes,\n",
    "    storage_context=storage_context,\n",
    "    embed_model=embed_model_halong_trained,\n",
    ")"
   ]
  },
  {
   "cell_type": "code",
   "execution_count": null,
   "metadata": {},
   "outputs": [],
   "source": [
    "# Load the index from the existing vector store\n",
    "\n",
    "index_halong_trained = VectorStoreIndex.from_vector_store(\n",
    "    vector_store=qdrant_vector_store,\n",
    "    storage_context=storage_context,\n",
    "    embed_model=embed_model_halong_trained\n",
    ")"
   ]
  },
  {
   "cell_type": "code",
   "execution_count": 15,
   "metadata": {},
   "outputs": [],
   "source": [
    "retriever_halong_trained  = index_halong_trained.as_retriever(\n",
    "    similarity_top_k=10,\n",
    "    vector_store_query_mode=\"hybrid\",\n",
    "    alpha=0.5,\n",
    ")"
   ]
  },
  {
   "cell_type": "code",
   "execution_count": 16,
   "metadata": {},
   "outputs": [
    {
     "data": {
      "text/plain": [
       "0.9661885245901639"
      ]
     },
     "execution_count": 16,
     "metadata": {},
     "output_type": "execute_result"
    }
   ],
   "source": [
    "compute_hit_rate(retriever_halong_trained, corpus_question_test_map)"
   ]
  },
  {
   "cell_type": "code",
   "execution_count": 17,
   "metadata": {},
   "outputs": [
    {
     "data": {
      "text/plain": [
       "0.755805604345564"
      ]
     },
     "execution_count": 17,
     "metadata": {},
     "output_type": "execute_result"
    }
   ],
   "source": [
    "compute_MRR(retriever_halong_trained, corpus_question_test_map)"
   ]
  },
  {
   "cell_type": "code",
   "execution_count": 20,
   "metadata": {},
   "outputs": [
    {
     "data": {
      "text/plain": [
       "0.808035384892791"
      ]
     },
     "execution_count": 20,
     "metadata": {},
     "output_type": "execute_result"
    }
   ],
   "source": [
    "compute_ndcg(retriever_halong_trained, corpus_question_test_map)"
   ]
  }
 ],
 "metadata": {
  "kernelspec": {
   "display_name": "Python 3",
   "language": "python",
   "name": "python3"
  },
  "language_info": {
   "codemirror_mode": {
    "name": "ipython",
    "version": 3
   },
   "file_extension": ".py",
   "mimetype": "text/x-python",
   "name": "python",
   "nbconvert_exporter": "python",
   "pygments_lexer": "ipython3",
   "version": "3.12.3"
  }
 },
 "nbformat": 4,
 "nbformat_minor": 2
}
